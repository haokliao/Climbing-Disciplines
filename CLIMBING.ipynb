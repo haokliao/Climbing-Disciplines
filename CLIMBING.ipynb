{
 "cells": [
  {
   "cell_type": "code",
   "execution_count": null,
   "metadata": {},
   "outputs": [],
   "source": [
    "# Install a pip package in the current Jupyter kernel\n",
    "import sys\n",
    "!{sys.executable} - m pip install seaborn\n"
   ]
  },
  {
   "cell_type": "code",
   "execution_count": 1,
   "metadata": {},
   "outputs": [
    {
     "data": {
      "application/vnd.jupyter.widget-view+json": {
       "model_id": "ff9e09d978904fd8add9a22a85b7d024",
       "version_major": 2,
       "version_minor": 0
      },
      "text/plain": "Tab(children=(Output(), Output(), Output()), _titles={'0': 'Bouldering', '1': 'Top Rope', '2': 'Lead Climbing'…"
     },
     "metadata": {
      "transient": {}
     },
     "output_type": "display_data"
    }
   ],
   "source": [
    "#Libraries for interactive widget (accordian style)\n",
    "import ipywidgets as widgets\n",
    "from IPython.display import display\n",
    "\n",
    "# Libraries for seaborn plots.\n",
    "import seaborn as sns\n",
    "import pandas as pd\n",
    "import matplotlib.pyplot as plt\n",
    "\n",
    "def bouldering():\n",
    "    climbers = pd.read_csv('bouldering_data.csv')\n",
    "    df = climbers[['Age', 'Bouldering Grade', 'Years Climbing']]\n",
    "\n",
    "    #create seaborn heatmap, assign axis labels\n",
    "    heatmap_data1 = pd.pivot_table(\n",
    "        df, values='Years Climbing', index='Age', columns='Bouldering Grade')\n",
    "\n",
    "    #set heatmap color style, square\n",
    "    sns.set_style(\"dark\")\n",
    "    ax1 = sns.heatmap(heatmap_data1, cmap=\"Greens\", square=True)\n",
    "\n",
    "    #Label Colorbar\n",
    "    cbar = ax1.collections[0].colorbar\n",
    "    cbar.set_label('Years Climbing', labelpad=0)\n",
    "\n",
    "    ax1.invert_yaxis()\n",
    "    plt.show()\n",
    "def toprope():\n",
    "    #Read File, create values#\n",
    "    climbers = pd.read_csv('toprope_data.csv')\n",
    "    df = climbers[['Age', 'TR Grade', 'Years Climbing']]\n",
    "\n",
    "    #create seaborn heatmap, assign axis labels\n",
    "    heatmap_data1= pd.pivot_table(df, values='Years Climbing', index='Age', columns='TR Grade')\n",
    "\n",
    "    #set heatmap color style, square\n",
    "    sns.set_style(\"dark\")\n",
    "    ax2 = sns.heatmap(heatmap_data1, cmap=\"Blues\", square=True)\n",
    "\n",
    "    #Label Colorbar\n",
    "    cbar= ax2.collections[0].colorbar\n",
    "    cbar.set_label('Years Climbing', labelpad=0)\n",
    "    ax2.invert_yaxis()\n",
    "    plt.show()\n",
    "def leadclimb():\n",
    "    #Read File, create values#\n",
    "    climbers= pd.read_csv('leadclimb_data.csv')\n",
    "    df= climbers[['Age', 'Lead Grade', 'Years Climbing']]\n",
    "\n",
    "    #create seaborn heatmap, assign axis labels\n",
    "    heatmap_data1= pd.pivot_table(df, values='Years Climbing', index='Age', columns='Lead Grade')\n",
    "\n",
    "    #set heatmap color style, square\n",
    "    sns.set_style(\"dark\")\n",
    "    ax3 = sns.heatmap(heatmap_data1, cmap=\"YlGn\", square=True)\n",
    "\n",
    "    #Label Colorbar\n",
    "    cbar= ax3.collections[0].colorbar\n",
    "    cbar.set_label('Years Climbing', labelpad=0)\n",
    "    ax3.invert_yaxis()\n",
    "    plt.show()\n",
    "\n",
    "out0 = widgets.Output()\n",
    "out1 = widgets.Output()\n",
    "out2 = widgets.Output()\n",
    "\n",
    "tab = widgets.Tab(children = [out0,out1,out2])\n",
    "tab.set_title(0, 'Bouldering')\n",
    "tab.set_title(1, 'Top Rope')\n",
    "tab.set_title(2, 'Lead Climbing')\n",
    "display(tab)\n",
    "\n",
    "with out0:\n",
    "    bouldering()\n",
    "with out1:\n",
    "    toprope()\n",
    "with out2:\n",
    "    leadclimb()\n",
    "\n",
    "\n"
   ]
  }
 ],
 "metadata": {
  "kernelspec": {
   "display_name": "Python 3",
   "language": "python",
   "name": "python3"
  },
  "language_info": {
   "codemirror_mode": {
    "name": "ipython",
    "version": 3
   },
   "file_extension": ".py",
   "mimetype": "text/x-python",
   "name": "python",
   "nbconvert_exporter": "python",
   "pygments_lexer": "ipython3",
   "version": "3.8.5"
  },
  "orig_nbformat": 2
 },
 "nbformat": 4,
 "nbformat_minor": 2
}