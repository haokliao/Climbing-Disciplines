{
 "cells": [
  {
   "cell_type": "code",
   "execution_count": 1,
   "metadata": {},
   "outputs": [
    {
     "data": {
      "application/vnd.jupyter.widget-view+json": {
       "model_id": "c8cfbd88216e4871ae3acbd429bfc892",
       "version_major": 2,
       "version_minor": 0
      },
      "text/plain": "Tab(children=(Output(), Output(), Output()), _titles={'0': 'Bouldering', '1': 'Top Rope', '2': 'Lead Climbing'…"
     },
     "metadata": {
      "transient": {}
     },
     "output_type": "display_data"
    }
   ],
   "source": [
    "# Libraries for interactive widget (accordian style)\n",
    "import ipywidgets as widgets\n",
    "from IPython.display import display\n",
    "\n",
    "# Libraries for seaborn plots.\n",
    "import seaborn as sns\n",
    "import pandas as pd\n",
    "import matplotlib.pyplot as plt\n",
    "\n",
    "# Retrieving data from CSV files\n",
    "bouldering = pd.read_csv('bouldering_data.csv')\n",
    "toprope = pd.read_csv('toprope_data.csv')\n",
    "lead = pd.read_csv('leadclimb_data.csv')\n",
    "\n",
    "def climbing(data_file, x_axis_name, color):\n",
    "    '''Allows you to plug seperate values for particular dataframe, name your bottom x axis\\' \n",
    "    and choose color scheme for your display'''\n",
    "\n",
    "    df = data_file[['Age', x_axis_name, 'Years Climbing']]\n",
    "    heatmap_data1 = pd.pivot_table(\n",
    "        df, values='Years Climbing', index='Age', columns=x_axis_name)\n",
    "\n",
    "    #set heatmap color style, square\n",
    "    sns.set_style(\"dark\")\n",
    "    ax1 = sns.heatmap(heatmap_data1, cmap=color, square=True)\n",
    "\n",
    "    #Label Colorbar\n",
    "    cbar = ax1.collections[0].colorbar\n",
    "    cbar.set_label('Years Climbing', labelpad=0)\n",
    "    ax1.invert_yaxis()\n",
    "    #axis inverted for readability\n",
    "    plt.show()\n",
    "\n",
    "boulder_widget = widgets.Output()\n",
    "tr_widget = widgets.Output()\n",
    "lead_widget = widgets.Output()\n",
    "\n",
    "tab = widgets.Tab(children=[boulder_widget, tr_widget, lead_widget])\n",
    "tab.set_title(0, 'Bouldering')\n",
    "tab.set_title(1, 'Top Rope')\n",
    "tab.set_title(2, 'Lead Climbing')\n",
    "display(tab)\n",
    "\n",
    "with boulder_widget:\n",
    "    climbing(bouldering, x_axis_name='Bouldering Grade', color=\"YlGn\")\n",
    "with tr_widget:\n",
    "    climbing(toprope, x_axis_name='Top Rope Grade', color=\"Greens\")\n",
    "with lead_widget:\n",
    "    climbing(lead, x_axis_name='Lead Grade', color=\"Blues\")\n"
   ]
  }
 ],
 "metadata": {
  "kernelspec": {
   "display_name": "Python 3",
   "language": "python",
   "name": "python3"
  },
  "language_info": {
   "codemirror_mode": {
    "name": "ipython",
    "version": 3
   },
   "file_extension": ".py",
   "mimetype": "text/x-python",
   "name": "python",
   "nbconvert_exporter": "python",
   "pygments_lexer": "ipython3",
   "version": "3.8.5"
  },
  "orig_nbformat": 2
 },
 "nbformat": 4,
 "nbformat_minor": 2
}