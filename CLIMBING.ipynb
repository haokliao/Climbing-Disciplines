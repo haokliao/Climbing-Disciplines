{
 "cells": [
  {
   "cell_type": "code",
   "execution_count": 1,
   "metadata": {},
   "outputs": [],
   "source": [
    "# Libraries for interactive widget (accordian style)\n",
    "import ipywidgets as widgets\n",
    "from IPython.display import display\n",
    "\n",
    "# Libraries for seaborn plots.\n",
    "import seaborn as sns\n",
    "import pandas as pd\n",
    "import matplotlib.pyplot as plt"
   ]
  },
  {
   "cell_type": "code",
   "execution_count": 2,
   "metadata": {},
   "outputs": [],
   "source": [
    "# Retrieving data from CSV files\n",
    "bouldering = pd.read_csv('bouldering_data.csv')\n",
    "toprope = pd.read_csv('toprope_data.csv')\n",
    "lead = pd.read_csv('leadclimb_data.csv')"
   ]
  },
  {
   "cell_type": "code",
   "execution_count": 3,
   "metadata": {},
   "outputs": [],
   "source": [
    "def climbing(dataframe, x_axis_name, color):\n",
    "    '''Allows you to input arguments for: which set of dataframe (bouldering,toprope,lead) you\\'ll be using,\n",
    "    what the label for your x axis will be, and the color template for your heatmap'''\n",
    "\n",
    "    df = dataframe[['Age', x_axis_name, 'Years Climbing']]\n",
    "    heatmap_data1 = pd.pivot_table(\n",
    "        df, values='Years Climbing', index='Age', columns=x_axis_name)\n",
    "\n",
    "    #set heatmap color style, square\n",
    "    sns.set_style(\"dark\")\n",
    "    ax1 = sns.heatmap(heatmap_data1, cmap=color, square=True)\n",
    "\n",
    "    #Label Colorbar\n",
    "    cbar = ax1.collections[0].colorbar\n",
    "    cbar.set_label('Years Climbing', labelpad=0)\n",
    "    ax1.invert_yaxis()\n",
    "    #axis inverted for readability\n",
    "    plt.show()"
   ]
  },
  {
   "cell_type": "code",
   "execution_count": 4,
   "metadata": {},
   "outputs": [
    {
     "data": {
      "application/vnd.jupyter.widget-view+json": {
       "model_id": "56246b7779bf4489a94c2427447bdcfb",
       "version_major": 2,
       "version_minor": 0
      },
      "text/plain": "Tab(children=(Output(), Output(), Output()), _titles={'0': 'Bouldering', '1': 'Top Rope', '2': 'Lead Climbing'…"
     },
     "metadata": {
      "transient": {}
     },
     "output_type": "display_data"
    }
   ],
   "source": [
    "boulder_widget = widgets.Output()\n",
    "tr_widget = widgets.Output()\n",
    "lead_widget = widgets.Output()\n",
    "\n",
    "tab = widgets.Tab(children=[boulder_widget, tr_widget, lead_widget])\n",
    "tab.set_title(0, 'Bouldering')\n",
    "tab.set_title(1, 'Top Rope')\n",
    "tab.set_title(2, 'Lead Climbing')\n",
    "display(tab)\n",
    "\n",
    "with boulder_widget:\n",
    "    climbing(bouldering, x_axis_name='Bouldering Grade', color=\"YlGn\")\n",
    "with tr_widget:\n",
    "    climbing(toprope, x_axis_name='Top Rope Grade', color=\"Greens\")\n",
    "with lead_widget:\n",
    "    climbing(lead, x_axis_name='Lead Grade', color=\"Blues\")\n"
   ]
  }
 ],
 "metadata": {
  "kernelspec": {
   "display_name": "Python 3",
   "language": "python",
   "name": "python3"
  },
  "language_info": {
   "codemirror_mode": {
    "name": "ipython",
    "version": 3
   },
   "file_extension": ".py",
   "mimetype": "text/x-python",
   "name": "python",
   "nbconvert_exporter": "python",
   "pygments_lexer": "ipython3",
   "version": "3.8.5-final"
  },
  "orig_nbformat": 2
 },
 "nbformat": 4,
 "nbformat_minor": 2
}